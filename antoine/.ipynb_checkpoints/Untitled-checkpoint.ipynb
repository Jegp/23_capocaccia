{
 "cells": [
  {
   "cell_type": "code",
   "execution_count": null,
   "id": "58b5c407-34ce-4b90-a758-da40245dafd9",
   "metadata": {
    "tags": []
   },
   "outputs": [],
   "source": [
    "import torch\n",
    "import norse.torch as norse\n",
    "import dsnt\n",
    "from scipy import signal\n",
    "import numpy as np\n",
    "\n",
    "def create_kernel(kernel_size, variance):\n",
    "    return signal.gaussian(kernel_size, std=variance)\n",
    "\n",
    "class LaserFilter(torch.nn.Module):\n",
    "    def __init__(self, kernel_size):\n",
    "        super().__init__()\n",
    "        # Setup network\n",
    "        self.lpf = torch.nn.Conv2d(1, 2, kernel_size, bias=False, padding=\"same\")\n",
    "        self.lpf.weight = create_kernel(kernel_size)\n",
    "\n",
    "    def forward(self, x, state = None):\n",
    "        self.model(x, state)\n"
   ]
  },
  {
   "cell_type": "markdown",
   "id": "1c33f432-dd4b-459c-9d43-2e4387cae341",
   "metadata": {},
   "source": []
  }
 ],
 "metadata": {
  "kernelspec": {
   "display_name": "Python 3 (ipykernel)",
   "language": "python",
   "name": "python3"
  },
  "language_info": {
   "name": ""
  }
 },
 "nbformat": 4,
 "nbformat_minor": 5
}
